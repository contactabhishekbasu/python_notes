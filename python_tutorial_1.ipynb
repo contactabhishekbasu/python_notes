{
 "cells": [
  {
   "cell_type": "markdown",
   "id": "8501ec75",
   "metadata": {},
   "source": [
    "# Python Notes by\n",
    "## [contactabhishekbasu](https://contactabhishekbasu.github.io/profile/)"
   ]
  },
  {
   "cell_type": "markdown",
   "id": "dee0b63f",
   "metadata": {},
   "source": [
    "## #1 Your first program!\n",
    "- In Python, we use the print to display the argument. Anything inside the parenthesis is called an argumnent.\n",
    "- Some pointers:\n",
    "   - Variable names are case-sensitive.\n",
    "   - String variables can be declared either by using single or double quotes\n",
    "- Rules for Python variables:\n",
    "   - A variable name must start with a letter or the underscore character\n",
    "   - A variable name cannot start with a number\n",
    "   - A variable name can only contain alpha-numeric characters and underscores (A-z, 0-9, and _ )\n",
    "   - Variable names are case-sensitive (age, Age and AGE are three different variables)"
   ]
  },
  {
   "cell_type": "code",
   "execution_count": 30,
   "id": "cce40ffa",
   "metadata": {},
   "outputs": [
    {
     "name": "stdout",
     "output_type": "stream",
     "text": [
      "Hello\n",
      "World!\n",
      "Hello\tWorld!\n",
      "Hello\\World!\n"
     ]
    }
   ],
   "source": [
    "print(\"Hello\\nWorld!\")\n",
    "print(\"Hello\\tWorld!\")\n",
    "print(\"Hello\\\\World!\")"
   ]
  },
  {
   "cell_type": "markdown",
   "id": "89359198",
   "metadata": {},
   "source": [
    "## #2 Data types in Python\n",
    "- Numeric Types:\n",
    "    - int = they can be negative -2, -3, etc also.;\n",
    "    - float = 11.123 = floats are real numbers and includes decimal;\n",
    "    - complex\n",
    "- Text Type: str = \"anything in parenthesis\"\n",
    "- Sequence/Compound Types:\n",
    "    - list;\n",
    "    - tuple;\n",
    "    - range\n",
    "- Mapping Type: dict\n",
    "- Boolean Type: bool = True or False, always in upperclass\n",
    "- Set Types:\n",
    "    - set;\n",
    "    - frozenset\n",
    "- Binary Types:\n",
    "    - bytes;\n",
    "    - bytearray;\n",
    "    - memoryview\n",
    "\n",
    "- to check the type of data, we use type(). Example:"
   ]
  },
  {
   "cell_type": "code",
   "execution_count": 10,
   "id": "506f8368",
   "metadata": {},
   "outputs": [
    {
     "data": {
      "text/plain": [
       "int"
      ]
     },
     "execution_count": 10,
     "metadata": {},
     "output_type": "execute_result"
    }
   ],
   "source": [
    "a=5\n",
    "type(a)"
   ]
  },
  {
   "cell_type": "markdown",
   "id": "5958adec",
   "metadata": {},
   "source": [
    "## #3 Data Conversion\n",
    "- One type of data can be converted into another\n",
    "- If we convert a bool in integer that is int(True), we will get 1 and for false we will get 0 and vice-versa"
   ]
  },
  {
   "cell_type": "markdown",
   "id": "4b0f64cb",
   "metadata": {},
   "source": [
    "## #4 Expressions\n",
    "- Python runs basic math exp\n",
    "- the numbers are called operands and the math symbols are known as operators\n",
    "- note: we use // to round the division result, the expresssion in the parenthesis are performed first\n",
    "- eg"
   ]
  },
  {
   "cell_type": "code",
   "execution_count": 11,
   "id": "059d2f4b",
   "metadata": {},
   "outputs": [
    {
     "data": {
      "text/plain": [
       "160"
      ]
     },
     "execution_count": 11,
     "metadata": {},
     "output_type": "execute_result"
    }
   ],
   "source": [
    "20+34-43*2/1.4 # output -7.428571428571431\n",
    "36//5 # output 7\n",
    "25//5 # output 5\n",
    "(30+2)*5 # output 160"
   ]
  },
  {
   "cell_type": "markdown",
   "id": "83713183",
   "metadata": {},
   "source": [
    "## #5 Variables\n",
    "- are used to store values, always shows the latest value\n",
    "- value of x is update to 10\n",
    "- eg:"
   ]
  },
  {
   "cell_type": "code",
   "execution_count": 12,
   "id": "9f503194",
   "metadata": {},
   "outputs": [
    {
     "name": "stdout",
     "output_type": "stream",
     "text": [
      "10\n"
     ]
    }
   ],
   "source": [
    "x=5\n",
    "x=x*2\n",
    "print(x)"
   ]
  },
  {
   "cell_type": "markdown",
   "id": "dcf67d8a",
   "metadata": {
    "scrolled": true
   },
   "source": [
    "## #6 String Operations\n",
    "- A string is a sequence of characters, a string is contained within two qoutes"
   ]
  },
  {
   "cell_type": "markdown",
   "id": "65e125e2",
   "metadata": {},
   "source": [
    "## #6.1 Indexing\n",
    "- Each element in the sequence can be accessed using an index represented by the array of numbers\n",
    "- We can also use negative indexing with strings. The last element is given by the index -1.\n",
    "- *Note: it always starts from 0*\n",
    "- eg:"
   ]
  },
  {
   "cell_type": "code",
   "execution_count": 23,
   "id": "1329b396",
   "metadata": {},
   "outputs": [
    {
     "name": "stdout",
     "output_type": "stream",
     "text": [
      "y\n",
      "n\n"
     ]
    }
   ],
   "source": [
    "str1=\"Python is amazing\"\n",
    "str1[1] # first element in the string\n",
    "print(str1[1])\n",
    "print(str1[5])"
   ]
  },
  {
   "cell_type": "markdown",
   "id": "8978f160",
   "metadata": {},
   "source": [
    "## #6.2 Negative Indexing\n",
    "- We can also use negative indexing with strings.\n",
    "- It help us to count the element from the end of the string"
   ]
  },
  {
   "cell_type": "code",
   "execution_count": 21,
   "id": "1eb197c8",
   "metadata": {},
   "outputs": [
    {
     "name": "stdout",
     "output_type": "stream",
     "text": [
      "g\n"
     ]
    }
   ],
   "source": [
    "str1[1] # last element in the string\n",
    "print(str1[-1])"
   ]
  },
  {
   "cell_type": "markdown",
   "id": "2bd3801f",
   "metadata": {},
   "source": [
    "## #6.3 Slicing\n",
    "- We can obtain multiple characters from a string using slicing.\n"
   ]
  },
  {
   "cell_type": "code",
   "execution_count": 26,
   "id": "8b5f724b",
   "metadata": {},
   "outputs": [
    {
     "name": "stdout",
     "output_type": "stream",
     "text": [
      "Python is amazing\n",
      "Python \n",
      "on \n",
      "\n"
     ]
    },
    {
     "data": {
      "text/plain": [
       "17"
      ]
     },
     "execution_count": 26,
     "metadata": {},
     "output_type": "execute_result"
    }
   ],
   "source": [
    "print(str1)\n",
    "print(str1[0:7])\n",
    "print(str1[4:7]) \n",
    "print(str1[-1:-5])\n",
    "len(str1) # output 17 used to find the length"
   ]
  },
  {
   "cell_type": "markdown",
   "id": "ad35c5e4",
   "metadata": {},
   "source": [
    "## #6.4 Stride\n",
    "- We can also input a stride value, with the '2' indicating that we are selecting every second variable."
   ]
  },
  {
   "cell_type": "code",
   "execution_count": 28,
   "id": "a72ee704",
   "metadata": {},
   "outputs": [
    {
     "name": "stdout",
     "output_type": "stream",
     "text": [
      "Python is amazing\n",
      "Pto saaig\n",
      "Pto \n",
      "Ph  an\n"
     ]
    }
   ],
   "source": [
    "print(str1)\n",
    "# Get every second element\n",
    "print(str1[::2])\n",
    "# Get every second element in the range from index 0 to index 8\n",
    "print(str1[0:8:2])\n",
    "# Get every third element in the range from index 0 to index 16\n",
    "print(str1[0:16:3])"
   ]
  },
  {
   "cell_type": "markdown",
   "id": "75b49a88",
   "metadata": {},
   "source": [
    "## #6.5 Concatinate\n",
    "- We can concatenate strings by using the (+) operator, and the result is a new string that is a combination of both."
   ]
  },
  {
   "cell_type": "code",
   "execution_count": 29,
   "id": "2902e12f",
   "metadata": {},
   "outputs": [
    {
     "name": "stdout",
     "output_type": "stream",
     "text": [
      "Python is amazing and I'm loving it\n"
     ]
    }
   ],
   "source": [
    "# Concatenating two strings\n",
    "str2=str1+\" and I'm loving it\"\n",
    "print(str2)"
   ]
  },
  {
   "cell_type": "markdown",
   "id": "664e3d2b",
   "metadata": {},
   "source": [
    "## #6.6 Escape Sequence\n",
    "- Back slashes represent the beginning of escape sequences. Escape sequences represent strings that may be difficult to input"
   ]
  },
  {
   "cell_type": "code",
   "execution_count": 33,
   "id": "1dc77260",
   "metadata": {},
   "outputs": [
    {
     "name": "stdout",
     "output_type": "stream",
     "text": [
      "Any fool can write code that a computer can understand.\n",
      "Good programmers write code that humans can understand.\n",
      "– Martin Fowler\n",
      "Any fool can write code that a computer can understand.\tGood programmers write code that humans can understand.\n",
      "\t– Martin Fowler\n",
      "Any fool can write code that a computer can understand. Good programmers write code that humans can understand.\\ Martin Fowler\n",
      "Any fool can write code that a computer can understand. Good programmers write code that humans can understand.\\n– Martin Fowler\n"
     ]
    }
   ],
   "source": [
    "# \\n includes a new line.\n",
    "print(\"Any fool can write code that a computer can understand.\\nGood programmers write code that humans can understand.\\n– Martin Fowler\")\n",
    "\n",
    "# \\t represents a tab.\n",
    "print(\"Any fool can write code that a computer can understand.\\tGood programmers write code that humans can understand.\\n\\t– Martin Fowler\")\n",
    "\n",
    "\n",
    "# If you want to place a backslash in your string, use double back slash\n",
    "print(\"Any fool can write code that a computer can understand. Good programmers write code that humans can understand.\\\\ Martin Fowler\")\n",
    "\n",
    "\n",
    "# r will tell python that string will be display as raw string\n",
    "print(r\"Any fool can write code that a computer can understand. Good programmers write code that humans can understand.\\n– Martin Fowler\")"
   ]
  },
  {
   "cell_type": "markdown",
   "id": "a2bd1bff",
   "metadata": {},
   "source": [
    "## #6.7 String methods\n",
    "- String methods are used to manipulate the data. Some basic string methods are:\n",
    "- More methods can be found at this [link](https://www.w3schools.com/python/python_strings_methods.asp)"
   ]
  },
  {
   "cell_type": "code",
   "execution_count": 34,
   "id": "75d172d2",
   "metadata": {},
   "outputs": [
    {
     "name": "stdout",
     "output_type": "stream",
     "text": [
      "Jupiter Notebook is amazing and I'm loving it\n"
     ]
    }
   ],
   "source": [
    "# replace() - This method replaces a segment of the string, i.e., a substring with a new string.\n",
    "\n",
    "str3=str2.replace(\"Python\",\"Jupiter Notebook\")\n",
    "print(str3)"
   ]
  },
  {
   "cell_type": "code",
   "execution_count": 38,
   "id": "92ba9b7a",
   "metadata": {},
   "outputs": [
    {
     "name": "stdout",
     "output_type": "stream",
     "text": [
      "JUPITER NOTEBOOK IS AMAZING AND I'M LOVING IT\n",
      "jupiter notebook is amazing and i'm loving it\n",
      "Jupiter notebook is amazing and i'm loving it\n"
     ]
    }
   ],
   "source": [
    "# upper(): this method converts lower case characters to upper case characters\n",
    "print(str3.upper())\n",
    "\n",
    "# lower(): this method converts lower case characters to upper case characters\n",
    "print(str3.lower())\n",
    "\n",
    "# capitalize(): Converts the first character to upper case\n",
    "print(str3.capitalize())"
   ]
  },
  {
   "cell_type": "code",
   "execution_count": 44,
   "id": "4e476647",
   "metadata": {},
   "outputs": [
    {
     "data": {
      "text/plain": [
       "32"
      ]
     },
     "execution_count": 44,
     "metadata": {},
     "output_type": "execute_result"
    }
   ],
   "source": [
    "# Searches the string for a specified value and returns the position of where it was found\n",
    "# Note: If the value is not found, the find() method returns -1\n",
    "# syntax: string.find(value, start, end) \n",
    "\n",
    "str3.find(\"I'm\")"
   ]
  },
  {
   "cell_type": "code",
   "execution_count": 42,
   "id": "6cb80e3c",
   "metadata": {},
   "outputs": [
    {
     "name": "stdout",
     "output_type": "stream",
     "text": [
      "3\n"
     ]
    }
   ],
   "source": [
    "# index(): Searches the string for a specified value and returns the position of where it was found\n",
    "# Note: If the value is not found, the find() method returns -1, but the index() method will raise an exception:\n",
    "\n",
    "# syntax: string.index(value, start, end) \n",
    "\n",
    "print(str3.index(\"i\",0,15))"
   ]
  },
  {
   "cell_type": "markdown",
   "id": "5e198fd5",
   "metadata": {},
   "source": [
    "## #7 Data Structure\n",
    "\n",
    "- Tupils\n",
    "    - They can contain string, integer and float\n",
    "    - Slicing and Indexing works in the same way as strings"
   ]
  },
  {
   "cell_type": "code",
   "execution_count": 53,
   "id": "29cb704e",
   "metadata": {},
   "outputs": [
    {
     "name": "stdout",
     "output_type": "stream",
     "text": [
      "<class 'str'>\n",
      "<class 'int'>\n",
      "<class 'float'>\n",
      "('Cool Runnings', 1993, 7.1, 'PG', 98)\n",
      "[0, 2, 2, 3, 3, 4, 5, 6, 8, 8, 9]\n"
     ]
    }
   ],
   "source": [
    "# Create a tuple\n",
    "t1=(\"Cool Runnings\", 1993, 7.1)\n",
    "\n",
    "# We can print out the type of each value in the tuple\n",
    "print(type(t1[0]))\n",
    "print(type(t1[1]))\n",
    "print(type(t1[2]))\n",
    "\n",
    "# Concatinating tupils\n",
    "t2=t1+(\"PG\",98)\n",
    "print(t2)\n",
    "\n",
    "# Tupils can be sorted\n",
    "t3=(5,8,2,8,3,6,9,3,0,4,2)\n",
    "t3_sorted=sorted(t3)\n",
    "print(t3_sorted)"
   ]
  },
  {
   "cell_type": "code",
   "execution_count": 58,
   "id": "2fab194d",
   "metadata": {},
   "outputs": [
    {
     "name": "stdout",
     "output_type": "stream",
     "text": [
      "Element 0 of Tuple:  Cool Runnings\n",
      "Element 1 of Tuple:  1993\n",
      "(1, 'October', 'USA')\n",
      "7.1\n",
      "PG\n",
      "('Cool Runnings', 1993, (1, 'October', 'USA'), 7.1, 'PG', ('Adventure', 'Comedy', 'Family'))\n"
     ]
    }
   ],
   "source": [
    "# Nested Tupils (IMP)\n",
    "# A tuple can contain another tuple as well as other more complex data types.\n",
    "# This process is called 'nesting'. Consider the following tuple with several elements\n",
    "\n",
    "nt=(\"Cool Runnings\", 1993,(1,\"October\",\"USA\"),7.1,\"PG\",(\"Adventure\",\"Comedy\",\"Family\"))\n",
    "\n",
    "# Each element in the tuple including other tuples can be obtained via an index\n",
    "\n",
    "print(\"Element 0 of Tuple: \", nt[0]) # note: how print is concatinated!\n",
    "print(\"Element 1 of Tuple: \", nt[1])\n",
    "print(nt[2])\n",
    "print(nt[3])\n",
    "print(nt[4])\n",
    "\n",
    "print(nt)"
   ]
  },
  {
   "cell_type": "code",
   "execution_count": null,
   "id": "6ccad21f",
   "metadata": {},
   "outputs": [],
   "source": []
  }
 ],
 "metadata": {
  "kernelspec": {
   "display_name": "Python 3",
   "language": "python",
   "name": "python3"
  },
  "language_info": {
   "codemirror_mode": {
    "name": "ipython",
    "version": 3
   },
   "file_extension": ".py",
   "mimetype": "text/x-python",
   "name": "python",
   "nbconvert_exporter": "python",
   "pygments_lexer": "ipython3",
   "version": "3.8.8"
  }
 },
 "nbformat": 4,
 "nbformat_minor": 5
}
