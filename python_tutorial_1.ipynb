{
 "cells": [
  {
   "cell_type": "markdown",
   "id": "3f6f5960",
   "metadata": {},
   "source": [
    "# Python Notes by\n",
    "## contactabhishekbasu"
   ]
  },
  {
   "cell_type": "markdown",
   "id": "183bac76",
   "metadata": {},
   "source": [
    "## #1 Yor first program!\n",
    "- In Python, we use the print to display the argument. Anything inside the parenthesis is called an argumnent.\n",
    "- \\n includes a new line. \\ is an escape sequence. Similarly \\t represents a tab. \n",
    "- If you want to place a backslash in your string, use \\\\."
   ]
  },
  {
   "cell_type": "code",
   "execution_count": null,
   "id": "b18065ca",
   "metadata": {},
   "outputs": [],
   "source": [
    "print(\"Hello\\nWorld!\")\n",
    "print(\"Hello\\tWorld!\")\n",
    "print(\"Hello\\\\World!\")"
   ]
  },
  {
   "cell_type": "markdown",
   "id": "cc8a8d29",
   "metadata": {},
   "source": [
    "## #2 Data types in Python\n",
    "- int = 11 note: they can be negative -2, -3, etc also.\n",
    "- float = 11.123 = floats are real numbers and includes decimal\n",
    "- str = \"anything in parenthesis\"\n",
    "- bool = True or False, always in upperclass\n",
    "- NOTE: \"\" or '', both will work\n",
    "- to check the type of data, we use type. Example:"
   ]
  },
  {
   "cell_type": "code",
   "execution_count": null,
   "id": "5ee9bb00",
   "metadata": {},
   "outputs": [],
   "source": [
    "a=5\n",
    "type(a)"
   ]
  },
  {
   "cell_type": "markdown",
   "id": "1865bf79",
   "metadata": {},
   "source": [
    "## #3 Data Conversion\n",
    "- One type of data can be converted into another\n",
    "- If we convert a bool in integer that is int(True), we will get 1 and for false we will get 0 and vice-versa"
   ]
  },
  {
   "cell_type": "markdown",
   "id": "cb11cae3",
   "metadata": {},
   "source": [
    "## #4 Expressions\n",
    "- Python runs basic math exp\n",
    "- the numbers are called operands and the math symbols are known as operators\n",
    "- note: we use // to round the division result, the expresssion in the parenthesis are performed first\n",
    "- eg"
   ]
  },
  {
   "cell_type": "code",
   "execution_count": null,
   "id": "792e223f",
   "metadata": {},
   "outputs": [],
   "source": [
    "20+34-43*2/1.4 # output -7.428571428571431\n",
    "36//5 # output 7\n",
    "25//5 # output 5\n",
    "(30+2)*5 # output 160"
   ]
  },
  {
   "cell_type": "markdown",
   "id": "f003b56b",
   "metadata": {},
   "source": [
    "## #5 Variables\n",
    "- are used to store values, always shows the latest value\n",
    "- value of x is update to 10\n",
    "- eg:"
   ]
  },
  {
   "cell_type": "code",
   "execution_count": null,
   "id": "2bfb5b19",
   "metadata": {},
   "outputs": [],
   "source": [
    "x=5\n",
    "x=x*2\n",
    "print(x)"
   ]
  },
  {
   "cell_type": "markdown",
   "id": "6f05766c",
   "metadata": {
    "scrolled": true
   },
   "source": [
    "## #6 String Operations\n",
    "- A string is a sequence of characters, a string is contained within two qoutes\n",
    "- Each element in the sequence can be accessed using an index represented by the array of numbers.\n",
    "- We can also use negative indexing with strings. The last element is given by the index -1.\n",
    "- Note: it always starts from 0\n",
    "- eg:"
   ]
  },
  {
   "cell_type": "code",
   "execution_count": null,
   "id": "ffc016fc",
   "metadata": {},
   "outputs": [],
   "source": [
    "str1=\"Python is amazing\"\n",
    "str1[1] # output 'y'\n",
    "str1[-1] # output 'g'\n",
    "str1[3:7] # output 'hon '"
   ]
  },
  {
   "cell_type": "code",
   "execution_count": null,
   "id": "8049e604",
   "metadata": {},
   "outputs": [],
   "source": [
    "# We can also incorporate slicing.\n",
    "str1[::2] # output'Pto sazn'\n",
    "str1[0:5:2] # output'Pto'\n",
    "len(str1) # output 16 used to find the length"
   ]
  },
  {
   "cell_type": "code",
   "execution_count": null,
   "id": "2902e12f",
   "metadata": {},
   "outputs": [],
   "source": [
    "# We can concatenate or combine strings\n",
    "str2=str1+\" and I'm loving it\"\n",
    "print(str2) # output Python is amazing and I'm loving it"
   ]
  },
  {
   "cell_type": "markdown",
   "id": "8d99873e",
   "metadata": {},
   "source": [
    "## #6.1 String methods\n",
    "- 1 Replace - The method replaces a segment of the string, i.e., a substring with a new string."
   ]
  },
  {
   "cell_type": "code",
   "execution_count": null,
   "id": "ac1873bc",
   "metadata": {},
   "outputs": [],
   "source": [
    "str3=str2.replace(\"Python\",\"Jupiter Notebook\")\n",
    "print(str3)"
   ]
  },
  {
   "cell_type": "markdown",
   "id": "f5b09fce",
   "metadata": {},
   "source": [
    "- 2 2 Find - The method find, finds sub-strings. The argument is the sub-string you would like to find"
   ]
  },
  {
   "cell_type": "code",
   "execution_count": null,
   "id": "4243682f",
   "metadata": {},
   "outputs": [],
   "source": [
    "str3.find(\"I'm\") # output 28"
   ]
  }
 ],
 "metadata": {
  "kernelspec": {
   "display_name": "Python 3",
   "language": "python",
   "name": "python3"
  },
  "language_info": {
   "codemirror_mode": {
    "name": "ipython",
    "version": 3
   },
   "file_extension": ".py",
   "mimetype": "text/x-python",
   "name": "python",
   "nbconvert_exporter": "python",
   "pygments_lexer": "ipython3",
   "version": "3.8.8"
  }
 },
 "nbformat": 4,
 "nbformat_minor": 5
}
