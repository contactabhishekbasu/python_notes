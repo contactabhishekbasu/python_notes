{
 "cells": [
  {
   "cell_type": "markdown",
   "id": "bca1cc8a",
   "metadata": {},
   "source": [
    "# Python Notes by\n",
    "## [contactabhishekbasu](https://contactabhishekbasu.github.io/profile/)"
   ]
  },
  {
   "cell_type": "markdown",
   "id": "bcc82160",
   "metadata": {},
   "source": [
    "## #1 Your first program!\n",
    "- In Python, we use the print() to display the argument. Anything inside parenthesis is called an argumnent.\n",
    "- Some pointers:\n",
    "   - Variable names are case-sensitive.\n",
    "   - String variables can be declared either by using single or double quotes\n",
    "- Rules for Python variables:\n",
    "   - A variable name must start with a letter or the underscore character\n",
    "   - A variable name cannot start with a number\n",
    "   - A variable name can only contain alpha-numeric characters and underscores (A-z, 0-9, and _ )\n",
    "   - Variable names are case-sensitive (age, Age and AGE are three different variables)"
   ]
  },
  {
   "cell_type": "code",
   "execution_count": 30,
   "id": "67b80db5",
   "metadata": {},
   "outputs": [
    {
     "name": "stdout",
     "output_type": "stream",
     "text": [
      "Hello\n",
      "World!\n",
      "Hello\tWorld!\n",
      "Hello\\World!\n"
     ]
    }
   ],
   "source": [
    "print(\"Hello\\nWorld!\")\n",
    "print(\"Hello\\tWorld!\")\n",
    "print(\"Hello\\\\World!\")"
   ]
  },
  {
   "cell_type": "markdown",
   "id": "8a5c3b0d",
   "metadata": {},
   "source": [
    "## #2 Data types in Python\n",
    "- Numeric Types:\n",
    "    - int = they can be negative -2, -3, etc also.;\n",
    "    - float = 11.123 = floats are real numbers and includes decimal;\n",
    "    - complex\n",
    "- Text Type: str = \"anything in parenthesis\"\n",
    "- Sequence/Compound Types:\n",
    "    - list;\n",
    "    - tuple;\n",
    "    - range\n",
    "- Mapping Type: dict\n",
    "- Boolean Type: bool = True or False, always in upperclass\n",
    "- Set Types:\n",
    "    - set;\n",
    "    - frozenset\n",
    "- Binary Types:\n",
    "    - bytes;\n",
    "    - bytearray;\n",
    "    - memoryview\n",
    "\n",
    "- to check the type of data, we use type(). Example:"
   ]
  },
  {
   "cell_type": "code",
   "execution_count": 10,
   "id": "3e11e3f1",
   "metadata": {},
   "outputs": [
    {
     "data": {
      "text/plain": [
       "int"
      ]
     },
     "execution_count": 10,
     "metadata": {},
     "output_type": "execute_result"
    }
   ],
   "source": [
    "a=5\n",
    "type(a)"
   ]
  },
  {
   "cell_type": "markdown",
   "id": "6c7129a9",
   "metadata": {},
   "source": [
    "## #3 Data Conversion\n",
    "- One type of data can be converted into another\n",
    "- If we convert a bool in integer that is int(True), we will get 1 and for false we will get 0 and vice-versa"
   ]
  },
  {
   "cell_type": "markdown",
   "id": "3307e984",
   "metadata": {},
   "source": [
    "## #4 Expressions\n",
    "- Python runs basic math exp\n",
    "- the numbers are called operands and the math symbols are known as operators\n",
    "- note: we use // to round the division result, the expresssion in the parenthesis are performed first\n",
    "- eg"
   ]
  },
  {
   "cell_type": "code",
   "execution_count": 60,
   "id": "4196533d",
   "metadata": {},
   "outputs": [
    {
     "name": "stdout",
     "output_type": "stream",
     "text": [
      "-7.428571428571431\n",
      "7\n",
      "5\n",
      "160\n"
     ]
    }
   ],
   "source": [
    "print(20+34-43*2/1.4)\n",
    "print(36//5)\n",
    "print(25//5)\n",
    "print((30+2)*5)"
   ]
  },
  {
   "cell_type": "markdown",
   "id": "26b2ed1e",
   "metadata": {},
   "source": [
    "## #5 Variables\n",
    "- are used to store values, always shows the latest value\n",
    "- value of x is update to 10\n",
    "- eg:"
   ]
  },
  {
   "cell_type": "code",
   "execution_count": 12,
   "id": "e3cdc29a",
   "metadata": {},
   "outputs": [
    {
     "name": "stdout",
     "output_type": "stream",
     "text": [
      "10\n"
     ]
    }
   ],
   "source": [
    "x=5\n",
    "x=x*2\n",
    "print(x)"
   ]
  },
  {
   "cell_type": "markdown",
   "id": "aaae4cd8",
   "metadata": {
    "scrolled": true
   },
   "source": [
    "## #6 String Operations\n",
    "- A string is a sequence of characters, a string is contained within two qoutes"
   ]
  },
  {
   "cell_type": "markdown",
   "id": "8b173a4b",
   "metadata": {},
   "source": [
    "## #6.1 Indexing\n",
    "- Each element in the sequence can be accessed using an index represented by the array of numbers\n",
    "- We can also use negative indexing with strings. The last element is given by the index -1.\n",
    "- *Note: it always starts from 0*\n",
    "- eg:"
   ]
  },
  {
   "cell_type": "code",
   "execution_count": 23,
   "id": "b283cba7",
   "metadata": {},
   "outputs": [
    {
     "name": "stdout",
     "output_type": "stream",
     "text": [
      "y\n",
      "n\n"
     ]
    }
   ],
   "source": [
    "str1=\"Python is amazing\"\n",
    "str1[1] # first element in the string\n",
    "print(str1[1])\n",
    "print(str1[5])"
   ]
  },
  {
   "cell_type": "markdown",
   "id": "3937de30",
   "metadata": {},
   "source": [
    "## #6.2 Negative Indexing\n",
    "- We can also use negative indexing with strings.\n",
    "- It help us to count the element from the end of the string"
   ]
  },
  {
   "cell_type": "code",
   "execution_count": 21,
   "id": "767a8238",
   "metadata": {},
   "outputs": [
    {
     "name": "stdout",
     "output_type": "stream",
     "text": [
      "g\n"
     ]
    }
   ],
   "source": [
    "str1[1] # last element in the string\n",
    "print(str1[-1])"
   ]
  },
  {
   "cell_type": "markdown",
   "id": "c5dcd2b0",
   "metadata": {},
   "source": [
    "## #6.3 Slicing\n",
    "- We can obtain multiple characters from a string using slicing.\n"
   ]
  },
  {
   "cell_type": "code",
   "execution_count": 26,
   "id": "75ea81b5",
   "metadata": {},
   "outputs": [
    {
     "name": "stdout",
     "output_type": "stream",
     "text": [
      "Python is amazing\n",
      "Python \n",
      "on \n",
      "\n"
     ]
    },
    {
     "data": {
      "text/plain": [
       "17"
      ]
     },
     "execution_count": 26,
     "metadata": {},
     "output_type": "execute_result"
    }
   ],
   "source": [
    "print(str1)\n",
    "print(str1[0:7])\n",
    "print(str1[4:7]) \n",
    "print(str1[-1:-5])\n",
    "len(str1) # output 17 used to find the length"
   ]
  },
  {
   "cell_type": "markdown",
   "id": "b9ac1c63",
   "metadata": {},
   "source": [
    "## #6.4 Stride\n",
    "- We can also input a stride value, with the '2' indicating that we are selecting every second variable."
   ]
  },
  {
   "cell_type": "code",
   "execution_count": 28,
   "id": "f74d818d",
   "metadata": {},
   "outputs": [
    {
     "name": "stdout",
     "output_type": "stream",
     "text": [
      "Python is amazing\n",
      "Pto saaig\n",
      "Pto \n",
      "Ph  an\n"
     ]
    }
   ],
   "source": [
    "print(str1)\n",
    "# Get every second element\n",
    "print(str1[::2])\n",
    "# Get every second element in the range from index 0 to index 8\n",
    "print(str1[0:8:2])\n",
    "# Get every third element in the range from index 0 to index 16\n",
    "print(str1[0:16:3])"
   ]
  },
  {
   "cell_type": "markdown",
   "id": "274dfa8f",
   "metadata": {},
   "source": [
    "## #6.5 Concatinate\n",
    "- We can concatenate strings by using the (+) operator, and the result is a new string that is a combination of both."
   ]
  },
  {
   "cell_type": "code",
   "execution_count": 29,
   "id": "2902e12f",
   "metadata": {},
   "outputs": [
    {
     "name": "stdout",
     "output_type": "stream",
     "text": [
      "Python is amazing and I'm loving it\n"
     ]
    }
   ],
   "source": [
    "# Concatenating two strings\n",
    "str2=str1+\" and I'm loving it\"\n",
    "print(str2)"
   ]
  },
  {
   "cell_type": "markdown",
   "id": "cebe5834",
   "metadata": {},
   "source": [
    "## #6.6 Escape Sequence\n",
    "- Back slashes represent the beginning of escape sequences. Escape sequences represent strings that may be difficult to input"
   ]
  },
  {
   "cell_type": "code",
   "execution_count": 33,
   "id": "c3c8db1d",
   "metadata": {},
   "outputs": [
    {
     "name": "stdout",
     "output_type": "stream",
     "text": [
      "Any fool can write code that a computer can understand.\n",
      "Good programmers write code that humans can understand.\n",
      "– Martin Fowler\n",
      "Any fool can write code that a computer can understand.\tGood programmers write code that humans can understand.\n",
      "\t– Martin Fowler\n",
      "Any fool can write code that a computer can understand. Good programmers write code that humans can understand.\\ Martin Fowler\n",
      "Any fool can write code that a computer can understand. Good programmers write code that humans can understand.\\n– Martin Fowler\n"
     ]
    }
   ],
   "source": [
    "# \\n includes a new line.\n",
    "print(\"Any fool can write code that a computer can understand.\\nGood programmers write code that humans can understand.\\n– Martin Fowler\")\n",
    "\n",
    "# \\t represents a tab.\n",
    "print(\"Any fool can write code that a computer can understand.\\tGood programmers write code that humans can understand.\\n\\t– Martin Fowler\")\n",
    "\n",
    "\n",
    "# If you want to place a backslash in your string, use double back slash\n",
    "print(\"Any fool can write code that a computer can understand. Good programmers write code that humans can understand.\\\\ Martin Fowler\")\n",
    "\n",
    "\n",
    "# r will tell python that string will be display as raw string\n",
    "print(r\"Any fool can write code that a computer can understand. Good programmers write code that humans can understand.\\n– Martin Fowler\")"
   ]
  },
  {
   "cell_type": "markdown",
   "id": "a8df0d7b",
   "metadata": {},
   "source": [
    "## #6.7 String methods\n",
    "- String methods are used to manipulate the data. Some basic string methods are:\n",
    "- More methods can be found at this [link](https://www.w3schools.com/python/python_strings_methods.asp)"
   ]
  },
  {
   "cell_type": "code",
   "execution_count": 34,
   "id": "182d01f6",
   "metadata": {},
   "outputs": [
    {
     "name": "stdout",
     "output_type": "stream",
     "text": [
      "Jupiter Notebook is amazing and I'm loving it\n"
     ]
    }
   ],
   "source": [
    "# replace() - This method replaces a segment of the string, i.e., a substring with a new string.\n",
    "\n",
    "str3=str2.replace(\"Python\",\"Jupiter Notebook\")\n",
    "print(str3)"
   ]
  },
  {
   "cell_type": "code",
   "execution_count": 38,
   "id": "2c3f06ea",
   "metadata": {},
   "outputs": [
    {
     "name": "stdout",
     "output_type": "stream",
     "text": [
      "JUPITER NOTEBOOK IS AMAZING AND I'M LOVING IT\n",
      "jupiter notebook is amazing and i'm loving it\n",
      "Jupiter notebook is amazing and i'm loving it\n"
     ]
    }
   ],
   "source": [
    "# upper(): this method converts lower case characters to upper case characters\n",
    "print(str3.upper())\n",
    "\n",
    "# lower(): this method converts lower case characters to upper case characters\n",
    "print(str3.lower())\n",
    "\n",
    "# capitalize(): Converts the first character to upper case\n",
    "print(str3.capitalize())"
   ]
  },
  {
   "cell_type": "code",
   "execution_count": 44,
   "id": "13faf48f",
   "metadata": {},
   "outputs": [
    {
     "data": {
      "text/plain": [
       "32"
      ]
     },
     "execution_count": 44,
     "metadata": {},
     "output_type": "execute_result"
    }
   ],
   "source": [
    "# Searches the string for a specified value and returns the position of where it was found\n",
    "# Note: If the value is not found, the find() method returns -1\n",
    "# syntax: string.find(value, start, end) \n",
    "\n",
    "str3.find(\"I'm\")"
   ]
  },
  {
   "cell_type": "code",
   "execution_count": 42,
   "id": "5325cf34",
   "metadata": {},
   "outputs": [
    {
     "name": "stdout",
     "output_type": "stream",
     "text": [
      "3\n"
     ]
    }
   ],
   "source": [
    "# index(): Searches the string for a specified value and returns the position of where it was found\n",
    "# Note: If the value is not found, the find() method returns -1, but the index() method will raise an exception:\n",
    "\n",
    "# syntax: string.index(value, start, end) \n",
    "\n",
    "print(str3.index(\"i\",0,15))"
   ]
  },
  {
   "cell_type": "markdown",
   "id": "29e00a46",
   "metadata": {},
   "source": [
    "## #7 Data Structure\n",
    "\n",
    "### #7.1 Tupils\n",
    "    - A tuple is a collection which is ordered and <b>immutable (unchangeable).</b>\n",
    "    - They can contain string, integer and float\n",
    "    - Tuples are written with <b>round brackets.</b>\n",
    "    - Slicing and Indexing works in the same way as strings"
   ]
  },
  {
   "cell_type": "code",
   "execution_count": 9,
   "id": "620d13d3",
   "metadata": {},
   "outputs": [
    {
     "name": "stdout",
     "output_type": "stream",
     "text": [
      "<class 'str'>\n",
      "<class 'int'>\n",
      "<class 'float'>\n",
      "('Her', 2013, 8.1, 'PG', 98)\n",
      "[0, 2, 2, 3, 3, 4, 5, 6, 8, 8, 9]\n"
     ]
    }
   ],
   "source": [
    "# Create a tuple\n",
    "t1=(\"Her\", 2013, 8.1)\n",
    "\n",
    "# We can print out the type of each value in the tuple\n",
    "print(type(t1[0]))\n",
    "print(type(t1[1]))\n",
    "print(type(t1[2]))\n",
    "\n",
    "# Concatinating tupils\n",
    "t2=t1+(\"PG\",98)\n",
    "print(t2)\n",
    "\n",
    "# Tupils can be sorted\n",
    "t3=(5,8,2,8,3,6,9,3,0,4,2)\n",
    "t3_sorted=sorted(t3)\n",
    "print(t3_sorted)"
   ]
  },
  {
   "cell_type": "code",
   "execution_count": 4,
   "id": "1f68a56a",
   "metadata": {},
   "outputs": [
    {
     "name": "stdout",
     "output_type": "stream",
     "text": [
      "Element 0 of Tuple:  Cool Runnings\n",
      "Element 1 of Tuple:  USA\n",
      "(1, 'October', 1993)\n",
      "7.1\n",
      "PG\n",
      "('Cool Runnings', 'USA', (1, 'October', 1993), 7.1, 'PG', ('Adventure', 'Comedy', 'Family'))\n"
     ]
    }
   ],
   "source": [
    "# Nested Tupils (IMP)\n",
    "# A tuple can contain another tuple as well as other more complex data types.\n",
    "# This process is called 'nesting'. Consider the following tuple with several elements\n",
    "\n",
    "nt=(\"Cool Runnings\",\"USA\",(1,\"October\",1993),7.1,\"PG\",(\"Adventure\",\"Comedy\",\"Family\"))\n",
    "\n",
    "# Each element in the tuple including other tuples can be obtained via an index\n",
    "\n",
    "print(\"Element 0 of Tuple: \", nt[0]) # note: how print is concatinated!\n",
    "print(\"Element 1 of Tuple: \", nt[1])\n",
    "print(nt[2])\n",
    "print(nt[3])\n",
    "print(nt[4])\n",
    "\n",
    "print(nt)"
   ]
  },
  {
   "cell_type": "code",
   "execution_count": 7,
   "id": "a2f1b6cf",
   "metadata": {},
   "outputs": [
    {
     "name": "stdout",
     "output_type": "stream",
     "text": [
      "('Cool Runnings', 'USA', (1, 'October', 1993), 7.1, 'PG', ('Adventure', 'Comedy', 'Family'))\n",
      "Element 2, 0 of Tuple:  1\n",
      "Element 2, 1 of Tuple:  October\n",
      "Element 2, 2 of Tuple:  1993\n",
      "Element 5, 0 of Tuple:  Adventure\n",
      "Element 5, 1 of Tuple:  Comedy\n",
      "Element 5, 2 of Tuple:  Family\n"
     ]
    }
   ],
   "source": [
    "# We can further drill down on the data by using the second index to access other tuples\n",
    "\n",
    "# Print element on each index, including nest indexes\n",
    "print(nt)\n",
    "print(\"Element 2, 0 of Tuple: \",   nt[2][0])\n",
    "print(\"Element 2, 1 of Tuple: \",   nt[2][1])\n",
    "print(\"Element 2, 2 of Tuple: \",   nt[2][2])\n",
    "print(\"Element 5, 0 of Tuple: \",   nt[5][0])\n",
    "print(\"Element 5, 1 of Tuple: \",   nt[5][1])\n",
    "print(\"Element 5, 2 of Tuple: \",   nt[5][2])"
   ]
  },
  {
   "cell_type": "code",
   "execution_count": 8,
   "id": "fdc9f9a4",
   "metadata": {},
   "outputs": [
    {
     "name": "stdout",
     "output_type": "stream",
     "text": [
      "d\n"
     ]
    }
   ],
   "source": [
    "# We can further print each element of nested tuples\n",
    "\n",
    "# Print the second element in the second nested tuples\n",
    "print(nt[5][0][1])"
   ]
  },
  {
   "cell_type": "markdown",
   "id": "f5ef5f9b",
   "metadata": {},
   "source": [
    "### #7.2 Lists\n",
    "    - A list is a sequenced collection of objects. They are <b> mutable or modifiable.</b>\n",
    "    - They can include integers, strings, floats, tuples and other lists as well.\n",
    "    - The address of each element within a list is called an index\n",
    "    - Lists are created using <b>square brackets.</b>\n",
    "    - Slicing and Indexing works in the same way as strings\n",
    "    - A list is stored vertically (for mental reference)"
   ]
  },
  {
   "cell_type": "code",
   "execution_count": 30,
   "id": "f76a8508",
   "metadata": {},
   "outputs": [
    {
     "name": "stdout",
     "output_type": "stream",
     "text": [
      "Man on the Moon Man on the Moon\n",
      "Positive Indexing:  Man on the Moon \n",
      "Negative Indexing:  Man on the Moon\n"
     ]
    }
   ],
   "source": [
    "l=[\"Man on the Moon\",1999,7.4]\n",
    "\n",
    "# we will print same element using negative and positive indexing\n",
    "print(l[0],l[-3])\n",
    "print(\"Positive Indexing: \",l[0],\"\\n\"\"Negative Indexing: \",l[-3])"
   ]
  },
  {
   "cell_type": "code",
   "execution_count": 32,
   "id": "5251a53e",
   "metadata": {},
   "outputs": [
    {
     "name": "stdout",
     "output_type": "stream",
     "text": [
      "['Man on the Moon', 1999, 7.4, 'Biography', 'Comedy', 'Drama']\n"
     ]
    }
   ],
   "source": [
    "# Since list are mutable\n",
    "# we can use the extend method to add new *elements* to the list\n",
    "l.extend([\"Biography\",\"Comedy\",\"Drama\"])\n",
    "print(l)"
   ]
  },
  {
   "cell_type": "code",
   "execution_count": 41,
   "id": "106cd0e6",
   "metadata": {},
   "outputs": [
    {
     "name": "stdout",
     "output_type": "stream",
     "text": [
      "['Man on the Moon', 1999, 7.4, 'Biography', 'Comedy', 'Drama', ['PG15'], [5, 'May', 2000]]\n"
     ]
    }
   ],
   "source": [
    "# we use append methods to add *one element* to the list\n",
    "l.append([\"PG15\"])\n",
    "l.append([5,\"May\",2000])\n",
    "print(l)"
   ]
  },
  {
   "cell_type": "code",
   "execution_count": 36,
   "id": "2d6d755d",
   "metadata": {},
   "outputs": [
    {
     "name": "stdout",
     "output_type": "stream",
     "text": [
      "['Man on the Moon', 1999, 7.4, 'Biography', 'Comedy', 'Drama', ['PG15'], '5 May 2000']\n"
     ]
    }
   ],
   "source": [
    "# Change the element based on the index\n",
    "l[7]=\"5 May 2000\"\n",
    "print(l)"
   ]
  },
  {
   "cell_type": "code",
   "execution_count": 43,
   "id": "719eb344",
   "metadata": {},
   "outputs": [
    {
     "name": "stdout",
     "output_type": "stream",
     "text": [
      "['Man on the Moon', 1999, 7.4, 'Biography', 'Comedy', 'Drama', [5, 'May', 2000]]\n"
     ]
    }
   ],
   "source": [
    "# We use the del method to delete an element\n",
    "del l[6]\n",
    "print(l)"
   ]
  },
  {
   "cell_type": "code",
   "execution_count": 44,
   "id": "d35ee713",
   "metadata": {},
   "outputs": [
    {
     "name": "stdout",
     "output_type": "stream",
     "text": [
      "['Jim', '&', 'Andy']\n"
     ]
    }
   ],
   "source": [
    "# The split() method splits a string into a list.\n",
    "\n",
    "# string.split(separator, maxsplit)\n",
    "# separator- Optional. Specifies the separator to use when splitting the string. By default any whitespace is a separator\n",
    "# maxsplit- Optional. Specifies how many splits to do. Default value is -1, which is \"all occurrences\"\n",
    "\n",
    "l2=[\"Jim & Andy\"]\n",
    "l2=\"Jim & Andy\".split()\n",
    "print(l2)"
   ]
  },
  {
   "cell_type": "code",
   "execution_count": 45,
   "id": "f8afc6b7",
   "metadata": {},
   "outputs": [
    {
     "name": "stdout",
     "output_type": "stream",
     "text": [
      "['Jim', '&', 'Andy']\n",
      "['Jim', '&', 'Andy']\n",
      "['Jim', 'and', 'Andy']\n",
      "['Jim', 'and', 'Andy']\n"
     ]
    }
   ],
   "source": [
    "# Copying & Cloning of lists\n",
    "# When we set one variable equal to another; both variables are referencing the same list in memory\n",
    "# We cannot copy a list simply by typing list2 = list1\n",
    "\n",
    "l2c=l2\n",
    "print(l2)\n",
    "print(l2c)\n",
    "\n",
    "# if we change any element, the referencing list will also change.\n",
    "\n",
    "l2[1]=\"and\"\n",
    "print(l2)\n",
    "print(l2c)"
   ]
  },
  {
   "cell_type": "code",
   "execution_count": 46,
   "id": "6bc07f26",
   "metadata": {},
   "outputs": [
    {
     "name": "stdout",
     "output_type": "stream",
     "text": [
      "['Jim', 'and', 'Andy']\n",
      "['Jim', 'and', 'Andy']\n",
      "['Jim', 'and', 'Andy']\n",
      "['Jim', '+', 'Andy']\n",
      "['Jim', '+', 'Andy']\n"
     ]
    }
   ],
   "source": [
    "# In order to prevent the above referencing issue, we clone or copy it\n",
    "l2cc=l2[:]\n",
    "print(l2cc)\n",
    "\n",
    "# now, we change an element in l2cc\n",
    "l2cc[1]=\"+\"\n",
    "print(l2)\n",
    "print(l2c)\n",
    "print(l2cc)\n",
    "\n",
    "# we can also use the copy() method\n",
    "l2ccc=l2cc.copy()\n",
    "print(l2ccc)"
   ]
  },
  {
   "cell_type": "markdown",
   "id": "a9bc835d",
   "metadata": {},
   "source": [
    "### #7.3 Sets\n",
    "    - Set items are unordered, unchangeable, and do not allow duplicate values.\n",
    "    - Sets are written with curly brackets.\n",
    "    "
   ]
  },
  {
   "cell_type": "code",
   "execution_count": 52,
   "id": "99eeb127",
   "metadata": {},
   "outputs": [
    {
     "name": "stdout",
     "output_type": "stream",
     "text": [
      "['Man on the Moon', 1999, 7.4, 'Biography', 'Comedy', 'Drama', [5, 'May', 2000]]\n"
     ]
    },
    {
     "ename": "TypeError",
     "evalue": "unhashable type: 'list'",
     "output_type": "error",
     "traceback": [
      "\u001b[0;31m---------------------------------------------------------------------------\u001b[0m",
      "\u001b[0;31mTypeError\u001b[0m                                 Traceback (most recent call last)",
      "\u001b[0;32m<ipython-input-52-e3af8f275fa4>\u001b[0m in \u001b[0;36m<module>\u001b[0;34m\u001b[0m\n\u001b[1;32m      1\u001b[0m \u001b[0;31m# A set can be created from a list\u001b[0m\u001b[0;34m\u001b[0m\u001b[0;34m\u001b[0m\u001b[0;34m\u001b[0m\u001b[0m\n\u001b[1;32m      2\u001b[0m \u001b[0mprint\u001b[0m\u001b[0;34m(\u001b[0m\u001b[0ml\u001b[0m\u001b[0;34m)\u001b[0m\u001b[0;34m\u001b[0m\u001b[0;34m\u001b[0m\u001b[0m\n\u001b[0;32m----> 3\u001b[0;31m \u001b[0ms\u001b[0m\u001b[0;34m=\u001b[0m\u001b[0mset\u001b[0m\u001b[0;34m(\u001b[0m\u001b[0ml\u001b[0m\u001b[0;34m)\u001b[0m\u001b[0;34m\u001b[0m\u001b[0;34m\u001b[0m\u001b[0m\n\u001b[0m\u001b[1;32m      4\u001b[0m \u001b[0mprint\u001b[0m\u001b[0;34m(\u001b[0m\u001b[0ms\u001b[0m\u001b[0;34m)\u001b[0m\u001b[0;34m\u001b[0m\u001b[0;34m\u001b[0m\u001b[0m\n",
      "\u001b[0;31mTypeError\u001b[0m: unhashable type: 'list'"
     ]
    }
   ],
   "source": [
    "# A set can be created from a list\n",
    "print(l)\n",
    "s=set(l)\n",
    "print(s) #doubt"
   ]
  },
  {
   "cell_type": "code",
   "execution_count": 54,
   "id": "af8b9917",
   "metadata": {},
   "outputs": [
    {
     "name": "stdout",
     "output_type": "stream",
     "text": [
      "{'PG15', 7.2, 'I Am Legend', 2007}\n",
      "{7.2, 'I Am Legend', 2007}\n"
     ]
    },
    {
     "data": {
      "text/plain": [
       "False"
      ]
     },
     "execution_count": 54,
     "metadata": {},
     "output_type": "execute_result"
    }
   ],
   "source": [
    "# We can add an element to a set using the add() method\n",
    "# If we add the same element twice, nothing will happen as there can be no duplicates in a set\n",
    "\n",
    "s1={\"I Am Legend\",2007,7.2}\n",
    "s1.add(\"PG15\")\n",
    "print(s1)\n",
    "\n",
    "# We can remove an item from a set using the remove() method\n",
    "s1.remove(\"PG15\")\n",
    "print(s1)\n",
    "\n",
    "# to check if an element is in the set, we use the in command\n",
    "\"PG15\" in s1"
   ]
  },
  {
   "cell_type": "code",
   "execution_count": null,
   "id": "ca9b3cb2",
   "metadata": {},
   "outputs": [],
   "source": [
    "# Sets Logic Operations\n",
    "# we can check the difference between sets\n",
    "# as well as the symmetric difference, intersection, and union\n",
    "\n",
    "s2={\"I Am Legend\", \"1h 41min\", 2007, \"PG15\"}\n",
    "print(s1)\n",
    "print(s2)\n",
    "\n",
    "# you can find the intersect of two sets as follow using &\n",
    "intersection=s1&s2\n",
    "\n",
    "# You can find all the elements that are only contained in one set by using the difference method\n",
    "s1.difference(s2)\n",
    "\n"
   ]
  }
 ],
 "metadata": {
  "kernelspec": {
   "display_name": "Python 3",
   "language": "python",
   "name": "python3"
  },
  "language_info": {
   "codemirror_mode": {
    "name": "ipython",
    "version": 3
   },
   "file_extension": ".py",
   "mimetype": "text/x-python",
   "name": "python",
   "nbconvert_exporter": "python",
   "pygments_lexer": "ipython3",
   "version": "3.8.8"
  }
 },
 "nbformat": 4,
 "nbformat_minor": 5
}
